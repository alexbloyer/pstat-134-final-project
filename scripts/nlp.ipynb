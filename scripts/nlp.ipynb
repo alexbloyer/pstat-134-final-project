{
 "cells": [
  {
   "cell_type": "markdown",
   "id": "b5112bd3",
   "metadata": {},
   "source": [
    "The last step in data generation is labeling the sentiment of the comments: positive, negative, neutral."
   ]
  },
  {
   "cell_type": "code",
   "execution_count": null,
   "id": "3a2b4a64",
   "metadata": {},
   "outputs": [
    {
     "name": "stderr",
     "output_type": "stream",
     "text": [
      "[nltk_data] Downloading package vader_lexicon to\n",
      "[nltk_data]     /Users/alex/nltk_data...\n",
      "[nltk_data]   Package vader_lexicon is already up-to-date!\n"
     ]
    }
   ],
   "source": [
    "from nltk.sentiment.vader import SentimentIntensityAnalyzer\n",
    "import nltk\n",
    "\n",
    "# Download VADER lexicon if not already available\n",
    "nltk.download('vader_lexicon')\n",
    "\n",
    "\n",
    "def analyze_sentiment(df):\n",
    "    # Initialize VADER sentiment analyzer\n",
    "    sid = SentimentIntensityAnalyzer()\n",
    "\n",
    "    # Drop rows with missing or deleted comments\n",
    "    df_clean = df[df['body'].notna() & (df['body'] != '[deleted]')].copy()\n",
    "\n",
    "    # Apply VADER sentiment scoring\n",
    "    df_clean['vader_score'] = df_clean['body'].apply(lambda text: sid.polarity_scores(text)['compound'])\n",
    "\n",
    "    # Assign sentiment labels based on VADER compound score\n",
    "    def label_sentiment(score):\n",
    "        if score >= 0.05:\n",
    "            return 'positive'\n",
    "        elif score <= -0.05:\n",
    "            return 'negative'\n",
    "        else:\n",
    "            return 'neutral'\n",
    "\n",
    "    df_clean['sentiment'] = df_clean['vader_score'].apply(label_sentiment)\n",
    "\n",
    "    # Show class distribution\n",
    "    df_clean['sentiment'].value_counts()\n",
    "\n",
    "    return df_clean"
   ]
  },
  {
   "cell_type": "code",
   "execution_count": 10,
   "id": "f98aaa88",
   "metadata": {},
   "outputs": [],
   "source": [
    "import pandas as pd\n",
    "\n",
    "comments = pd.read_csv(\"../data/comments.csv\")\n",
    "\n",
    "analyze_sentiment(comments).to_csv(\"../data/labeled_comments.csv\", index=False)"
   ]
  }
 ],
 "metadata": {
  "kernelspec": {
   "display_name": "base",
   "language": "python",
   "name": "python3"
  },
  "language_info": {
   "codemirror_mode": {
    "name": "ipython",
    "version": 3
   },
   "file_extension": ".py",
   "mimetype": "text/x-python",
   "name": "python",
   "nbconvert_exporter": "python",
   "pygments_lexer": "ipython3",
   "version": "3.12.2"
  }
 },
 "nbformat": 4,
 "nbformat_minor": 5
}
