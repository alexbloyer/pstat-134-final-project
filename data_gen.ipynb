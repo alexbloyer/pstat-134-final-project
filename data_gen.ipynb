{
 "cells": [
  {
   "cell_type": "markdown",
   "id": "15281c16",
   "metadata": {},
   "source": [
    "To gather user comments and other relevant information, we will employ the Python Reddit API Wrapper (PRAW) which builds upon the publically available reddit API in a user-friendly manner."
   ]
  },
  {
   "cell_type": "code",
   "execution_count": null,
   "id": "d348eed2",
   "metadata": {},
   "outputs": [
    {
     "name": "stdout",
     "output_type": "stream",
     "text": [
      "10\n"
     ]
    }
   ],
   "source": [
    "import praw\n",
    "import pandas as pd\n",
    "\n",
    "# initialize login-info\n",
    "reddit = praw.Reddit(\n",
    "    client_id=\"SgqCbXgBegHP1bRZ2qc7FQ\",\n",
    "    client_secret=\"OrSeWWIvWoOJl7WVniFKDlMSkvW-rQ\",\n",
    "    user_agent=\"macos:Sentiment_Analysis:v1 (by u/Minimum-Tadpole-5000)\"\n",
    ")"
   ]
  },
  {
   "cell_type": "markdown",
   "id": "3b685de1",
   "metadata": {},
   "source": [
    "The previous block initializes a read-only instance of reddit that can be used to access public subbreddits of interest for submissions, comments, redditors, etc. To perform meaningful analysis, we are motivated to create a CSV file of the data. The following code block does exactly that, manipulating the CommentForest object and gathering all comments through a breadth-first-search procedure."
   ]
  },
  {
   "cell_type": "code",
   "execution_count": 10,
   "id": "a9ae39f5",
   "metadata": {},
   "outputs": [],
   "source": [
    "subreddit = reddit.subreddit(\"UCSantaBarbara\")\n",
    "comments = []\n",
    "\n",
    "for submission in subreddit.top(limit=10):\n",
    "    submission.comments.replace_more(limit=None)\n",
    "    for comment in submission.comments.list():\n",
    "        comments.append({\n",
    "            \"id\": comment.id,\n",
    "            \"author\": str(comment.author),\n",
    "            \"body\": comment.body,\n",
    "            \"score\": comment.score,\n",
    "            \"created_utc\": comment.created_utc,\n",
    "            \"parent_id\": comment.parent_id,\n",
    "            \"link_id\": comment.link_id,\n",
    "            \"permalink\": comment.permalink,\n",
    "            \"is_submitter\": comment.is_submitter,\n",
    "            \"distinguished\": comment.distinguished,\n",
    "            \"stickied\": comment.stickied\n",
    "        })\n",
    "df = pd.DataFrame(comments)\n",
    "df.to_csv(\"comments.csv\", index=False)\n"
   ]
  }
 ],
 "metadata": {
  "kernelspec": {
   "display_name": "base",
   "language": "python",
   "name": "python3"
  },
  "language_info": {
   "codemirror_mode": {
    "name": "ipython",
    "version": 3
   },
   "file_extension": ".py",
   "mimetype": "text/x-python",
   "name": "python",
   "nbconvert_exporter": "python",
   "pygments_lexer": "ipython3",
   "version": "3.12.2"
  }
 },
 "nbformat": 4,
 "nbformat_minor": 5
}
